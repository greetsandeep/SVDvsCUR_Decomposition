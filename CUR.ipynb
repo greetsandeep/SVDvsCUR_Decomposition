{
 "cells": [
  {
   "cell_type": "code",
   "execution_count": 6,
   "metadata": {
    "collapsed": false
   },
   "outputs": [],
   "source": [
    "import numpy as np\n",
    "import math\n",
    "import random\n",
    "#from single_iter_svd import calc_error\n",
    "#from random import random\n",
    "#from numpy.random import choice"
   ]
  },
  {
   "cell_type": "code",
   "execution_count": 7,
   "metadata": {
    "collapsed": true
   },
   "outputs": [],
   "source": [
    "def columnselect(A,c,k):\n",
    "    U,S,V = np.linalg.svd(A,full_matrices = False)\n",
    "    dimension = A.shape\n",
    "    a = V.shape\n",
    "  \n",
    "    p = []\n",
    "  \n",
    "    for i in xrange(a[0]):\n",
    "        p.append(sum(np.dot(V[i,:k+1],V[i,:k+1]))/k)\n",
    "    \n",
    "    \n",
    "    C = np.zeros((dimension[0],c))\n",
    "    list1 = [i for i in xrange(dimension[1])]\n",
    "    list2 = [min(1,c*item) for item in p]\n",
    "    for t in xrange(c):\n",
    "        \n",
    "        j = choice(list1)\n",
    "        #print j\n",
    "        C[:,t] = A[:,j]/(((c**2) * p[j])**0.5)\n",
    "    return C"
   ]
  },
  {
   "cell_type": "code",
   "execution_count": 8,
   "metadata": {
    "collapsed": false
   },
   "outputs": [],
   "source": [
    "from bisect import bisect\n",
    "#from random import random\n",
    "\n",
    "def columnselect2(A,c,k):\n",
    "    U,S,V = np.linalg.svd(A,full_matrices = False)\n",
    "    dimension = A.shape\n",
    "    a = V.shape\n",
    "    p = []\n",
    "    p2=[]\n",
    "    for i in xrange(a[0]):\n",
    "        p.append(sum((V[i,:k]**2))/k)\n",
    "    print p\n",
    "    \n",
    "    \n",
    "    C = np.zeros((dimension[0],c))\n",
    "    #print C.shape\n",
    "    list2 = [min(1,c*item) for item in p]\n",
    "    #print list2\n",
    "    cdf = [list2[0]]\n",
    "    for i in xrange(1, len(list2)):\n",
    "        cdf.append(cdf[-1] + list2[i])\n",
    "    #print cdf\n",
    "    #print list2\n",
    "    for t in xrange(c):\n",
    "        \n",
    "        j = bisect(cdf,random())\n",
    "        C[:,t] = A[:,j]/(((c**2) * p[j])**0.5)\n",
    "    return C"
   ]
  },
  {
   "cell_type": "code",
   "execution_count": 38,
   "metadata": {
    "collapsed": false
   },
   "outputs": [],
   "source": [
    "def columnselect3(A,c,flag):\n",
    "    a = A.shape\n",
    "    p=[]\n",
    "    sq_sum=0\n",
    "    for i in xrange(a[0]):\n",
    "        for j in xrange(a[1]):\n",
    "            sq_sum = sq_sum + A[i,j]**2\n",
    "    C = np.zeros((a[0],c))\n",
    "    R = np.zeros((r,a[1]))\n",
    "    random.seed(1)\n",
    "    if flag == 1:  #columns\n",
    "        for x in xrange(a[1]):\n",
    "            sq_sum2 = 0\n",
    "            for i in xrange(a[0]):\n",
    "                sq_sum2 = sq_sum2 + A[i,x]**2\n",
    "            p.append(float(sq_sum2)/float(sq_sum))\n",
    "        p = sorted(p)\n",
    "        \n",
    "        for y in range(1,len(p)):\n",
    "            p[y] = p[y] + p[y-1]\n",
    "        #print p\n",
    "        k=0\n",
    "        for i in xrange(c):\n",
    "            \n",
    "            j = random.random()\n",
    "            for k in xrange(len(p)):\n",
    "                if j<p[k]:\n",
    "                    j = k\n",
    "                    #print j\n",
    "                    break\n",
    "                \n",
    "            C[:,i] = A[:,j]/((c*p[j])**0.5)\n",
    "        return C\n",
    "    \n",
    "    else: #rows\n",
    "        for x in xrange(a[0]):\n",
    "            sq_sum2 = 0\n",
    "            for i in xrange(a[1]):\n",
    "                sq_sum2 = sq_sum2 + A[x,i]**2\n",
    "            p.append(float(sq_sum2)/float(sq_sum))\n",
    "        p = sorted(p)\n",
    "        for y in range(1,len(p)):\n",
    "            p[y] = p[y] + p[y-1]\n",
    "        #print p\n",
    "        k=0\n",
    "        for i in xrange(c):\n",
    "            #random.seed(1)\n",
    "            j = random.random()\n",
    "            for k in xrange(len(p)):\n",
    "                if j<p[k]:\n",
    "                    j=k\n",
    "                    break\n",
    "            R[i,:] = A[j,:]/((c*p[j])**0.5)\n",
    "        return R"
   ]
  },
  {
   "cell_type": "code",
   "execution_count": 39,
   "metadata": {
    "collapsed": false
   },
   "outputs": [],
   "source": [
    "def calc_error(A,ratings_svd):\n",
    "\n",
    "    '''\n",
    "    Caluclating the Frobenius Error\n",
    "    '''\n",
    "\n",
    "    error = 0\n",
    "\n",
    "    for i in range(0,len(A)):\n",
    "        for j in range(0,len(A[i])):\n",
    "            error = error + (A[i,j]-ratings_svd[i,j])**2\n",
    "\n",
    "    error = math.sqrt(error)\n",
    "    return error"
   ]
  },
  {
   "cell_type": "code",
   "execution_count": 40,
   "metadata": {
    "collapsed": false
   },
   "outputs": [
    {
     "name": "stdout",
     "output_type": "stream",
     "text": [
      "1.17100901807e-14\n",
      "[[ 1.  2.]\n",
      " [ 2.  3.]\n",
      " [ 3.  4.]]\n"
     ]
    }
   ],
   "source": [
    "A = np.array([[1,2],[2,3],[3,4]])\n",
    "c = 2\n",
    "r = 2\n",
    "k = 1\n",
    "\n",
    "C = columnselect3(A,c,1)\n",
    "\n",
    "B = A.transpose()\n",
    "R = columnselect3(A,r,0)\n",
    "U = np.dot(np.linalg.pinv(C),np.dot(A,np.linalg.pinv(R)))\n",
    "final = np.dot(C,np.dot(U,R))\n",
    "print calc_error(A,final)\n",
    "print final"
   ]
  },
  {
   "cell_type": "code",
   "execution_count": 41,
   "metadata": {
    "collapsed": false
   },
   "outputs": [
    {
     "name": "stdout",
     "output_type": "stream",
     "text": [
      "[[ 2.   4.   3.5 ...,  0.   0.   0. ]\n",
      " [ 0.   0.   0.  ...,  0.   0.   0. ]\n",
      " [ 0.   0.   0.  ...,  0.   0.   0. ]\n",
      " ..., \n",
      " [ 0.   0.   0.  ...,  0.   0.   0. ]\n",
      " [ 0.   4.   0.  ...,  0.   0.   0. ]\n",
      " [ 1.5  3.   2.  ...,  0.   0.   0. ]]\n",
      "(1508, 2071)\n"
     ]
    }
   ],
   "source": [
    "input_file = open(\"ratings.txt\",\"r\")\n",
    "rating_raw = input_file.readlines()\n",
    "rating_list = []\n",
    "\n",
    "for line in rating_raw:\n",
    "    ind_rating = []\n",
    "    line = line.split(\" \")\n",
    "\n",
    "    user = int(line[0])\n",
    "    ind_rating.append(user)\n",
    "\n",
    "    item = int(line[1])\n",
    "    ind_rating.append(item)\n",
    "\n",
    "    rating = float(line[2])\n",
    "    ind_rating.append(rating)\t\n",
    "    rating_list.append(ind_rating)\n",
    "\n",
    "max_item = 0\n",
    "max_user = rating_list[len(rating_list)-1][0]\n",
    "for rating in rating_list:\n",
    "    if rating[1] > max_item:\n",
    "        max_item = rating[1]\n",
    "\n",
    "ratings = np.zeros((max_user, max_item))\n",
    "\n",
    "for rating in rating_list:\n",
    "    ratings[rating[0]-1][rating[1]-1] = rating[2]\n",
    "    \n",
    "print ratings\n",
    "print ratings.shape\n"
   ]
  },
  {
   "cell_type": "code",
   "execution_count": 42,
   "metadata": {
    "collapsed": false
   },
   "outputs": [
    {
     "name": "stdout",
     "output_type": "stream",
     "text": [
      "530.524290102\n",
      "[[  0.00000000e+00   0.00000000e+00   0.00000000e+00 ...,   0.00000000e+00\n",
      "    0.00000000e+00   0.00000000e+00]\n",
      " [  0.00000000e+00   0.00000000e+00   0.00000000e+00 ...,   0.00000000e+00\n",
      "    0.00000000e+00   0.00000000e+00]\n",
      " [ -1.45736053e-03  -1.66084163e-01  -7.17579863e-01 ...,  -3.96533469e-01\n",
      "   -4.75840163e-01  -7.24594228e-01]\n",
      " ..., \n",
      " [  0.00000000e+00   0.00000000e+00   0.00000000e+00 ...,   0.00000000e+00\n",
      "    0.00000000e+00   0.00000000e+00]\n",
      " [  0.00000000e+00   0.00000000e+00   0.00000000e+00 ...,   0.00000000e+00\n",
      "    0.00000000e+00   0.00000000e+00]\n",
      " [  1.49999269e+00   2.99916682e+00   1.99640016e+00 ...,   7.87427576e-06\n",
      "    9.44913091e-06  -1.41458499e-05]]\n"
     ]
    }
   ],
   "source": [
    "c = 2000\n",
    "r = 1500\n",
    "k = 3\n",
    "\n",
    "\n",
    "\n",
    "C = columnselect3(ratings,c,1)\n",
    "#B = ratings.transpose()\n",
    "R = columnselect3(ratings,r,0)\n",
    "#R = R.transpose()\n",
    "U = np.dot(np.linalg.pinv(C),np.dot(ratings,np.linalg.pinv(R)))\n",
    "final = np.dot(C,np.dot(U,R))\n",
    "print calc_error(ratings,final)\n",
    "print final\n",
    "\n",
    "    #U = np.linalg.pinv(C) * ratings * np.linalg.pinv(R)\n",
    "#print C*U*R"
   ]
  },
  {
   "cell_type": "code",
   "execution_count": 13,
   "metadata": {
    "collapsed": false
   },
   "outputs": [
    {
     "name": "stdout",
     "output_type": "stream",
     "text": [
      "0.134364244112\n",
      "0.134364244112\n"
     ]
    }
   ],
   "source": [
    "random.seed(1)\n",
    "print random.random()\n",
    "random.seed(1)\n",
    "print random.random()"
   ]
  },
  {
   "cell_type": "code",
   "execution_count": null,
   "metadata": {
    "collapsed": true
   },
   "outputs": [],
   "source": []
  },
  {
   "cell_type": "code",
   "execution_count": null,
   "metadata": {
    "collapsed": true
   },
   "outputs": [],
   "source": []
  }
 ],
 "metadata": {
  "anaconda-cloud": {},
  "kernelspec": {
   "display_name": "Python [conda root]",
   "language": "python",
   "name": "conda-root-py"
  },
  "language_info": {
   "codemirror_mode": {
    "name": "ipython",
    "version": 2
   },
   "file_extension": ".py",
   "mimetype": "text/x-python",
   "name": "python",
   "nbconvert_exporter": "python",
   "pygments_lexer": "ipython2",
   "version": "2.7.12"
  }
 },
 "nbformat": 4,
 "nbformat_minor": 1
}
